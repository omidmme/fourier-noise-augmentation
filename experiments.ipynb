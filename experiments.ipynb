{
 "cells": [
  {
   "cell_type": "code",
   "execution_count": null,
   "metadata": {
    "collapsed": true,
    "pycharm": {
     "name": "#%%\n"
    }
   },
   "outputs": [],
   "source": [
    "\"\"\"\n",
    "This notebook contains all experiments that have been included in the final paper of the research.\n",
    "\"\"\"\n",
    "import sys\n",
    "# The code uses PyTorch version 1.11.0 with CUDA 11.3\n",
    "!{sys.executable} -m pip install torch torchvision torchaudio --extra-index-url https://download.pytorch.org/whl/cu113\n",
    "!{sys.executable} -m pip install seaborn tqdm"
   ]
  },
  {
   "cell_type": "code",
   "execution_count": null,
   "outputs": [],
   "source": [
    "import torch\n",
    "import torchvision\n",
    "from exp_model.exp_setup import run_experiment\n",
    "from fourier_noise.custom_noise_filter import CustomNoise\n",
    "\n",
    "c_noise = CustomNoise()"
   ],
   "metadata": {
    "collapsed": false,
    "pycharm": {
     "name": "#%%\n"
    }
   }
  },
  {
   "cell_type": "code",
   "execution_count": null,
   "outputs": [],
   "source": [
    "# The experiments are expected to be run in one iteration. If weights are used, then exp_setup.py needs to be adjusted accordingly.\n",
    "error_matrix = torch.load(\"fhmap_data.pth\")\n",
    "# Experiment 1 High Frequency Range with strength 4\n",
    "transformation_exp1 = [c_noise.single_frequency(4, \"l\", 0.5)]\n",
    "run_experiment(transformation_exp1, \"EXP1\", \"High Frequency Range\")\n",
    "# Experiment 2 Mid Frequency Range with strength 4\n",
    "transformation_exp2 = [c_noise.single_frequency(4, \"m\", 0.5)]\n",
    "run_experiment(transformation_exp2, \"EXP2\", \"Mid Frequency Range\")\n",
    "# Experiment 3 Low Frequency Range with strength 4\n",
    "transformation_exp3 = [c_noise.single_frequency(4, \"h\", 0.5)]\n",
    "run_experiment(transformation_exp3, \"EXP3\", \"Low Frequency Range\")\n",
    "# Experiment 4 Error-Based Frequency Set with strength 4 and threshold 0.5\n",
    "transformation_exp4 = [c_noise.error_metric(4, error_matrix, 0.5, 0.5)]\n",
    "run_experiment(transformation_exp4, \"EXP4\", \"Error-Based Frequency Set\")"
   ],
   "metadata": {
    "collapsed": false,
    "pycharm": {
     "name": "#%%\n"
    }
   }
  },
  {
   "cell_type": "code",
   "execution_count": null,
   "outputs": [],
   "source": [
    "t_lowp = []\n",
    "slow_coord = []\n",
    "for i in range(-1, 2):\n",
    "    for j in range(-1, 2):\n",
    "        slow_coord.append((i, j))\n",
    "        if i != j:\n",
    "            slow_coord.append((j, i))\n",
    "slow_coord = sorted(set(slow_coord))\n",
    "for (x, y) in slow_coord:\n",
    "    n = abs(x) + abs(y)\n",
    "    if n == 0:\n",
    "        t_lowp.append(0.65)\n",
    "    elif n == 1:\n",
    "        t_lowp.append(0.5)\n",
    "    else:\n",
    "        t_lowp.append(0.2)\n",
    "# Experiment 5 Mid Frequency and Low Frequency Range with strength 2\n",
    "transformation_exp5 = [c_noise.single_frequency(2, \"m\", 0.5), c_noise.single_frequency(2, \"l\", 0.5)]\n",
    "run_experiment(transformation_exp5, \"EXP5\", \"Low & Mid Frequency Range\")\n",
    "# Experiment 6 Error-Based Frequency Set with strength 2 and threshold 0.5 and High Frequency Range with strength 2\n",
    "transformation_exp6 = [c_noise.error_metric(2, error_matrix, 0.5, 0.5), c_noise.single_frequency(2, \"h\", 0.5)]\n",
    "run_experiment(transformation_exp6, \"EXP6\", \"Error-Based Set & High Frequency Range\")\n",
    "# Experiment 7 Small Low Frequency Range with strength 2.5 and decreasing probability for higher frequencies & High Frequency Range with strength 1.5\n",
    "t_low = c_noise.custom_transform(slow_coord, 2.5)\n",
    "transformation_exp7 = [torchvision.transforms.RandomChoice(t_low, t_lowp), c_noise.single_frequency(1.5, \"h\", 0.5)]\n",
    "run_experiment(transformation_exp7, \"EXP7\", \"Small Low & High Frequency Range\")"
   ],
   "metadata": {
    "collapsed": false,
    "pycharm": {
     "name": "#%%\n"
    }
   }
  },
  {
   "cell_type": "code",
   "execution_count": null,
   "outputs": [],
   "source": [
    "# Experiment 8 Error-Based Frequency Set with strength 2 and threshold 0.5, High Frequency Range with strength 2 and Low Frequency Range with strength 0.5\n",
    "transformation_exp8 = [c_noise.error_metric(2, error_matrix, 0.5, 0.5), c_noise.single_frequency(2, \"h\", 0.5),\n",
    "                       c_noise.single_frequency(0.5, \"l\", 0.5)]\n",
    "run_experiment(transformation_exp8, \"EXP8\", \"Low & High Frequency Range and Error-Based Frequency set\")\n",
    "# Experiment 9 High, Mid, and Low Frequency Range with strength 2.5, 1 and 0.5\n",
    "transformation_exp9 = [c_noise.single_frequency(2.5, \"h\", 0.5), c_noise.single_frequency(1, \"m\", 0.5),\n",
    "                       c_noise.single_frequency(0.5, \"l\", 0.5)]\n",
    "run_experiment(transformation_exp9, \"EXP9\", \"Low & Mid & High Frequency Range\")\n",
    "# Experiment 10 Small Low Frequency Range with strength 2.5 and decreasing probability for higher frequencies & Mid & High Frequency Range with strength 0.5 and 1.5\n",
    "transformation_exp10 = [torchvision.transforms.RandomChoice(t_low, t_lowp), c_noise.single_frequency(1.5, \"h\", 0.5),\n",
    "                        c_noise.single_frequency(0.5, \"m\", 0.5)]\n",
    "run_experiment(transformation_exp10, \"EXP10\", \"Small Low & Mid & High Frequency Range\")"
   ],
   "metadata": {
    "collapsed": false,
    "pycharm": {
     "name": "#%%\n"
    }
   }
  }
 ],
 "metadata": {
  "kernelspec": {
   "display_name": "Python 3",
   "language": "python",
   "name": "python3"
  },
  "language_info": {
   "codemirror_mode": {
    "name": "ipython",
    "version": 2
   },
   "file_extension": ".py",
   "mimetype": "text/x-python",
   "name": "python",
   "nbconvert_exporter": "python",
   "pygments_lexer": "ipython2",
   "version": "2.7.6"
  }
 },
 "nbformat": 4,
 "nbformat_minor": 0
}