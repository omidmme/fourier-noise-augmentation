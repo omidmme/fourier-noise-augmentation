{
 "cells": [
  {
   "cell_type": "code",
   "execution_count": 2,
   "metadata": {
    "collapsed": true,
    "pycharm": {
     "name": "#%%\n"
    }
   },
   "outputs": [
    {
     "name": "stdout",
     "output_type": "stream",
     "text": [
      "Looking in indexes: https://pypi.org/simple, https://download.pytorch.org/whl/cu113\n",
      "Requirement already satisfied: torch in c:\\users\\omdbr\\appdata\\local\\programs\\python\\python38\\lib\\site-packages (1.11.0+cu113)\n",
      "Requirement already satisfied: torchvision in c:\\users\\omdbr\\appdata\\local\\programs\\python\\python38\\lib\\site-packages (0.12.0+cu113)\n",
      "Requirement already satisfied: torchaudio in c:\\users\\omdbr\\appdata\\local\\programs\\python\\python38\\lib\\site-packages (0.11.0+cu113)\n",
      "Requirement already satisfied: typing-extensions in c:\\users\\omdbr\\appdata\\local\\programs\\python\\python38\\lib\\site-packages (from torch) (4.2.0)\n",
      "Requirement already satisfied: numpy in c:\\users\\omdbr\\appdata\\local\\programs\\python\\python38\\lib\\site-packages (from torchvision) (1.22.4)\n",
      "Requirement already satisfied: pillow!=8.3.*,>=5.3.0 in c:\\users\\omdbr\\appdata\\local\\programs\\python\\python38\\lib\\site-packages (from torchvision) (9.1.1)\n",
      "Requirement already satisfied: requests in c:\\users\\omdbr\\appdata\\local\\programs\\python\\python38\\lib\\site-packages (from torchvision) (2.27.1)\n",
      "Requirement already satisfied: urllib3<1.27,>=1.21.1 in c:\\users\\omdbr\\appdata\\local\\programs\\python\\python38\\lib\\site-packages (from requests->torchvision) (1.26.9)\n",
      "Requirement already satisfied: idna<4,>=2.5 in c:\\users\\omdbr\\appdata\\local\\programs\\python\\python38\\lib\\site-packages (from requests->torchvision) (3.3)\n",
      "Requirement already satisfied: charset-normalizer~=2.0.0 in c:\\users\\omdbr\\appdata\\local\\programs\\python\\python38\\lib\\site-packages (from requests->torchvision) (2.0.12)\n",
      "Requirement already satisfied: certifi>=2017.4.17 in c:\\users\\omdbr\\appdata\\local\\programs\\python\\python38\\lib\\site-packages (from requests->torchvision) (2022.5.18.1)\n"
     ]
    },
    {
     "name": "stderr",
     "output_type": "stream",
     "text": [
      "WARNING: There was an error checking the latest version of pip.\n"
     ]
    }
   ],
   "source": [
    "\"\"\"\n",
    "This notebook contains all experiments that have been included in the final paper of the research.\n",
    "\"\"\"\n",
    "import sys\n",
    "# The code uses PyTorch version 1.11.0 with CUDA 11.3\n",
    "!{sys.executable} -m pip install torch torchvision torchaudio --extra-index-url https://download.pytorch.org/whl/cu113"
   ]
  },
  {
   "cell_type": "code",
   "execution_count": 2,
   "outputs": [],
   "source": [
    "import torch\n",
    "import torchvision\n",
    "from exp_model.exp_setup import run_experiment\n",
    "from fourier_noise.custom_noise_filter import CustomNoise\n",
    "\n",
    "c_noise = CustomNoise()"
   ],
   "metadata": {
    "collapsed": false,
    "pycharm": {
     "name": "#%%\n"
    }
   }
  },
  {
   "cell_type": "code",
   "execution_count": null,
   "outputs": [
    {
     "name": "stdout",
     "output_type": "stream",
     "text": [
      "Device state: cuda\n",
      "Downloading https://www.cs.toronto.edu/~kriz/cifar-10-python.tar.gz to data/cifar10\\cifar-10-python.tar.gz\n"
     ]
    },
    {
     "data": {
      "text/plain": "  0%|          | 0/170498071 [00:00<?, ?it/s]",
      "application/vnd.jupyter.widget-view+json": {
       "version_major": 2,
       "version_minor": 0,
       "model_id": "196827e370724d908be28d29f16c75af"
      }
     },
     "metadata": {},
     "output_type": "display_data"
    },
    {
     "name": "stdout",
     "output_type": "stream",
     "text": [
      "Extracting data/cifar10\\cifar-10-python.tar.gz to data/cifar10\n",
      "Files already downloaded and verified\n",
      "Training the exp_model\n",
      "Epoch:  1\n"
     ]
    },
    {
     "name": "stderr",
     "output_type": "stream",
     "text": [
      "450it [02:52,  2.61it/s]\n"
     ]
    },
    {
     "name": "stdout",
     "output_type": "stream",
     "text": [
      "train loss at epoch  0 :  1.6317261457443237\n",
      "<class 'list'>\n",
      "current validation loss:  1.4560953378677368\n",
      "Epoch:  2\n"
     ]
    },
    {
     "name": "stderr",
     "output_type": "stream",
     "text": [
      "450it [02:42,  2.77it/s]\n"
     ]
    },
    {
     "name": "stdout",
     "output_type": "stream",
     "text": [
      "train loss at epoch  1 :  1.2696070671081543\n",
      "<class 'list'>\n",
      "current validation loss:  1.1442811489105225\n",
      "Epoch:  3\n"
     ]
    },
    {
     "name": "stderr",
     "output_type": "stream",
     "text": [
      "450it [02:42,  2.77it/s]\n"
     ]
    },
    {
     "name": "stdout",
     "output_type": "stream",
     "text": [
      "train loss at epoch  2 :  1.0461242198944092\n",
      "<class 'list'>\n",
      "current validation loss:  1.0477817058563232\n",
      "Epoch:  4\n"
     ]
    },
    {
     "name": "stderr",
     "output_type": "stream",
     "text": [
      "450it [02:42,  2.77it/s]\n"
     ]
    },
    {
     "name": "stdout",
     "output_type": "stream",
     "text": [
      "train loss at epoch  3 :  0.8922772407531738\n",
      "<class 'list'>\n",
      "current validation loss:  0.9191427230834961\n",
      "Epoch:  5\n"
     ]
    },
    {
     "name": "stderr",
     "output_type": "stream",
     "text": [
      "450it [02:42,  2.77it/s]\n"
     ]
    },
    {
     "name": "stdout",
     "output_type": "stream",
     "text": [
      "train loss at epoch  4 :  0.7830917835235596\n",
      "<class 'list'>\n",
      "current validation loss:  0.7535041570663452\n",
      "Epoch:  6\n"
     ]
    },
    {
     "name": "stderr",
     "output_type": "stream",
     "text": [
      "450it [02:42,  2.77it/s]\n"
     ]
    },
    {
     "name": "stdout",
     "output_type": "stream",
     "text": [
      "train loss at epoch  5 :  0.7072053551673889\n",
      "<class 'list'>\n",
      "current validation loss:  0.7281615138053894\n",
      "Epoch:  7\n"
     ]
    },
    {
     "name": "stderr",
     "output_type": "stream",
     "text": [
      "450it [02:42,  2.77it/s]\n"
     ]
    },
    {
     "name": "stdout",
     "output_type": "stream",
     "text": [
      "train loss at epoch  6 :  0.6472043395042419\n",
      "<class 'list'>\n",
      "current validation loss:  0.6884391903877258\n",
      "Epoch:  8\n"
     ]
    },
    {
     "name": "stderr",
     "output_type": "stream",
     "text": [
      "450it [02:42,  2.77it/s]\n"
     ]
    },
    {
     "name": "stdout",
     "output_type": "stream",
     "text": [
      "train loss at epoch  7 :  0.6024817228317261\n",
      "<class 'list'>\n",
      "current validation loss:  0.6809013485908508\n",
      "Epoch:  9\n"
     ]
    },
    {
     "name": "stderr",
     "output_type": "stream",
     "text": [
      "450it [02:42,  2.77it/s]\n"
     ]
    },
    {
     "name": "stdout",
     "output_type": "stream",
     "text": [
      "train loss at epoch  8 :  0.5621963143348694\n",
      "<class 'list'>\n",
      "current validation loss:  0.6132023334503174\n",
      "Epoch:  10\n"
     ]
    },
    {
     "name": "stderr",
     "output_type": "stream",
     "text": [
      "450it [02:42,  2.77it/s]\n"
     ]
    },
    {
     "name": "stdout",
     "output_type": "stream",
     "text": [
      "train loss at epoch  9 :  0.5305816531181335\n",
      "<class 'list'>\n",
      "current validation loss:  0.6152634024620056\n",
      "Epoch:  11\n"
     ]
    },
    {
     "name": "stderr",
     "output_type": "stream",
     "text": [
      "450it [02:42,  2.77it/s]\n"
     ]
    },
    {
     "name": "stdout",
     "output_type": "stream",
     "text": [
      "train loss at epoch  10 :  0.49966710805892944\n",
      "<class 'list'>\n",
      "current validation loss:  0.5858122110366821\n",
      "Epoch:  12\n"
     ]
    },
    {
     "name": "stderr",
     "output_type": "stream",
     "text": [
      "450it [02:42,  2.77it/s]\n"
     ]
    },
    {
     "name": "stdout",
     "output_type": "stream",
     "text": [
      "train loss at epoch  11 :  0.4786050319671631\n",
      "<class 'list'>\n",
      "current validation loss:  0.5442379117012024\n",
      "Epoch:  13\n"
     ]
    },
    {
     "name": "stderr",
     "output_type": "stream",
     "text": [
      "450it [02:42,  2.77it/s]\n"
     ]
    },
    {
     "name": "stdout",
     "output_type": "stream",
     "text": [
      "train loss at epoch  12 :  0.458788126707077\n",
      "<class 'list'>\n",
      "current validation loss:  0.5293354392051697\n",
      "Epoch:  14\n"
     ]
    },
    {
     "name": "stderr",
     "output_type": "stream",
     "text": [
      "450it [02:42,  2.77it/s]\n"
     ]
    },
    {
     "name": "stdout",
     "output_type": "stream",
     "text": [
      "train loss at epoch  13 :  0.43160730600357056\n",
      "<class 'list'>\n",
      "current validation loss:  0.546948254108429\n",
      "Epoch:  15\n"
     ]
    },
    {
     "name": "stderr",
     "output_type": "stream",
     "text": [
      "450it [02:42,  2.77it/s]\n"
     ]
    },
    {
     "name": "stdout",
     "output_type": "stream",
     "text": [
      "train loss at epoch  14 :  0.42049553990364075\n",
      "<class 'list'>\n",
      "current validation loss:  0.5751319527626038\n",
      "Epoch:  16\n"
     ]
    },
    {
     "name": "stderr",
     "output_type": "stream",
     "text": [
      "450it [02:42,  2.77it/s]\n"
     ]
    },
    {
     "name": "stdout",
     "output_type": "stream",
     "text": [
      "train loss at epoch  15 :  0.39621108770370483\n",
      "<class 'list'>\n",
      "current validation loss:  0.49523863196372986\n",
      "Epoch:  17\n"
     ]
    },
    {
     "name": "stderr",
     "output_type": "stream",
     "text": [
      "450it [02:42,  2.77it/s]\n"
     ]
    },
    {
     "name": "stdout",
     "output_type": "stream",
     "text": [
      "train loss at epoch  16 :  0.38415101170539856\n",
      "<class 'list'>\n",
      "current validation loss:  0.4959234893321991\n",
      "Epoch:  18\n"
     ]
    },
    {
     "name": "stderr",
     "output_type": "stream",
     "text": [
      "450it [02:42,  2.77it/s]\n"
     ]
    },
    {
     "name": "stdout",
     "output_type": "stream",
     "text": [
      "train loss at epoch  17 :  0.36521363258361816\n",
      "<class 'list'>\n",
      "current validation loss:  0.4625954329967499\n",
      "Epoch:  19\n"
     ]
    },
    {
     "name": "stderr",
     "output_type": "stream",
     "text": [
      "450it [02:42,  2.77it/s]\n"
     ]
    },
    {
     "name": "stdout",
     "output_type": "stream",
     "text": [
      "train loss at epoch  18 :  0.345529168844223\n",
      "<class 'list'>\n",
      "current validation loss:  0.4609452784061432\n",
      "Epoch:  20\n"
     ]
    },
    {
     "name": "stderr",
     "output_type": "stream",
     "text": [
      "450it [02:42,  2.77it/s]\n"
     ]
    },
    {
     "name": "stdout",
     "output_type": "stream",
     "text": [
      "train loss at epoch  19 :  0.3383776843547821\n",
      "<class 'list'>\n",
      "current validation loss:  0.4772292673587799\n",
      "Epoch:  21\n"
     ]
    },
    {
     "name": "stderr",
     "output_type": "stream",
     "text": [
      "450it [02:42,  2.77it/s]\n"
     ]
    },
    {
     "name": "stdout",
     "output_type": "stream",
     "text": [
      "train loss at epoch  20 :  0.32089993357658386\n",
      "<class 'list'>\n",
      "current validation loss:  0.45144155621528625\n",
      "Epoch:  22\n"
     ]
    },
    {
     "name": "stderr",
     "output_type": "stream",
     "text": [
      "450it [02:42,  2.77it/s]\n"
     ]
    },
    {
     "name": "stdout",
     "output_type": "stream",
     "text": [
      "train loss at epoch  21 :  0.3123887777328491\n",
      "<class 'list'>\n",
      "current validation loss:  0.4370242655277252\n",
      "Epoch:  23\n"
     ]
    },
    {
     "name": "stderr",
     "output_type": "stream",
     "text": [
      "450it [02:42,  2.77it/s]\n"
     ]
    },
    {
     "name": "stdout",
     "output_type": "stream",
     "text": [
      "train loss at epoch  22 :  0.3012607991695404\n",
      "<class 'list'>\n",
      "current validation loss:  0.43871796131134033\n",
      "Epoch:  24\n"
     ]
    },
    {
     "name": "stderr",
     "output_type": "stream",
     "text": [
      "450it [02:42,  2.77it/s]\n"
     ]
    },
    {
     "name": "stdout",
     "output_type": "stream",
     "text": [
      "train loss at epoch  23 :  0.29072219133377075\n",
      "<class 'list'>\n",
      "current validation loss:  0.44353383779525757\n",
      "Epoch:  25\n"
     ]
    },
    {
     "name": "stderr",
     "output_type": "stream",
     "text": [
      "450it [02:43,  2.76it/s]\n"
     ]
    },
    {
     "name": "stdout",
     "output_type": "stream",
     "text": [
      "train loss at epoch  24 :  0.2770044207572937\n",
      "<class 'list'>\n",
      "current validation loss:  0.4378435015678406\n",
      "Epoch:  26\n"
     ]
    },
    {
     "name": "stderr",
     "output_type": "stream",
     "text": [
      "450it [02:42,  2.77it/s]\n"
     ]
    },
    {
     "name": "stdout",
     "output_type": "stream",
     "text": [
      "train loss at epoch  25 :  0.26625239849090576\n",
      "<class 'list'>\n",
      "current validation loss:  0.4381861090660095\n",
      "Epoch:  27\n"
     ]
    },
    {
     "name": "stderr",
     "output_type": "stream",
     "text": [
      "450it [02:42,  2.77it/s]\n"
     ]
    },
    {
     "name": "stdout",
     "output_type": "stream",
     "text": [
      "train loss at epoch  26 :  0.25766250491142273\n",
      "<class 'list'>\n",
      "current validation loss:  0.44864168763160706\n",
      "Epoch:  28\n"
     ]
    },
    {
     "name": "stderr",
     "output_type": "stream",
     "text": [
      "450it [02:42,  2.77it/s]\n"
     ]
    },
    {
     "name": "stdout",
     "output_type": "stream",
     "text": [
      "train loss at epoch  27 :  0.2495729625225067\n",
      "<class 'list'>\n",
      "current validation loss:  0.4427843391895294\n",
      "Epoch:  29\n"
     ]
    },
    {
     "name": "stderr",
     "output_type": "stream",
     "text": [
      "450it [02:42,  2.77it/s]\n"
     ]
    },
    {
     "name": "stdout",
     "output_type": "stream",
     "text": [
      "train loss at epoch  28 :  0.2412504255771637\n",
      "<class 'list'>\n",
      "current validation loss:  0.4376218616962433\n",
      "Epoch:  30\n"
     ]
    },
    {
     "name": "stderr",
     "output_type": "stream",
     "text": [
      "450it [02:42,  2.77it/s]\n"
     ]
    },
    {
     "name": "stdout",
     "output_type": "stream",
     "text": [
      "train loss at epoch  29 :  0.23500964045524597\n",
      "<class 'list'>\n",
      "current validation loss:  0.46582525968551636\n",
      "Epoch:  31\n"
     ]
    },
    {
     "name": "stderr",
     "output_type": "stream",
     "text": [
      "450it [02:42,  2.77it/s]\n"
     ]
    },
    {
     "name": "stdout",
     "output_type": "stream",
     "text": [
      "train loss at epoch  30 :  0.22644639015197754\n",
      "<class 'list'>\n",
      "current validation loss:  0.41700804233551025\n",
      "Epoch:  32\n"
     ]
    },
    {
     "name": "stderr",
     "output_type": "stream",
     "text": [
      "450it [02:42,  2.77it/s]\n"
     ]
    },
    {
     "name": "stdout",
     "output_type": "stream",
     "text": [
      "train loss at epoch  31 :  0.21725113689899445\n",
      "<class 'list'>\n",
      "current validation loss:  0.427249938249588\n",
      "Epoch:  33\n"
     ]
    },
    {
     "name": "stderr",
     "output_type": "stream",
     "text": [
      "450it [02:42,  2.77it/s]\n"
     ]
    },
    {
     "name": "stdout",
     "output_type": "stream",
     "text": [
      "train loss at epoch  32 :  0.20896728336811066\n",
      "<class 'list'>\n",
      "current validation loss:  0.43554794788360596\n",
      "Epoch:  34\n"
     ]
    },
    {
     "name": "stderr",
     "output_type": "stream",
     "text": [
      "450it [02:42,  2.77it/s]\n"
     ]
    },
    {
     "name": "stdout",
     "output_type": "stream",
     "text": [
      "train loss at epoch  33 :  0.1972305178642273\n",
      "<class 'list'>\n",
      "current validation loss:  0.447314977645874\n",
      "Epoch:  35\n"
     ]
    },
    {
     "name": "stderr",
     "output_type": "stream",
     "text": [
      "450it [02:42,  2.76it/s]\n"
     ]
    },
    {
     "name": "stdout",
     "output_type": "stream",
     "text": [
      "train loss at epoch  34 :  0.19908259809017181\n",
      "<class 'list'>\n",
      "current validation loss:  0.4262091815471649\n",
      "Epoch:  36\n"
     ]
    },
    {
     "name": "stderr",
     "output_type": "stream",
     "text": [
      "450it [02:42,  2.77it/s]\n"
     ]
    },
    {
     "name": "stdout",
     "output_type": "stream",
     "text": [
      "train loss at epoch  35 :  0.19207654893398285\n",
      "<class 'list'>\n",
      "current validation loss:  0.44398233294487\n",
      "Epoch:  37\n"
     ]
    },
    {
     "name": "stderr",
     "output_type": "stream",
     "text": [
      "450it [02:42,  2.77it/s]\n"
     ]
    },
    {
     "name": "stdout",
     "output_type": "stream",
     "text": [
      "train loss at epoch  36 :  0.1823221892118454\n",
      "<class 'list'>\n",
      "current validation loss:  0.40574753284454346\n",
      "Epoch:  38\n"
     ]
    },
    {
     "name": "stderr",
     "output_type": "stream",
     "text": [
      "450it [02:42,  2.77it/s]\n"
     ]
    },
    {
     "name": "stdout",
     "output_type": "stream",
     "text": [
      "train loss at epoch  37 :  0.17923888564109802\n",
      "<class 'list'>\n",
      "current validation loss:  0.4179845452308655\n",
      "Epoch:  39\n"
     ]
    },
    {
     "name": "stderr",
     "output_type": "stream",
     "text": [
      "450it [02:42,  2.76it/s]\n"
     ]
    },
    {
     "name": "stdout",
     "output_type": "stream",
     "text": [
      "train loss at epoch  38 :  0.1748502403497696\n",
      "<class 'list'>\n",
      "current validation loss:  0.39519068598747253\n",
      "Epoch:  40\n"
     ]
    },
    {
     "name": "stderr",
     "output_type": "stream",
     "text": [
      "450it [02:42,  2.77it/s]\n"
     ]
    },
    {
     "name": "stdout",
     "output_type": "stream",
     "text": [
      "train loss at epoch  39 :  0.1674746423959732\n",
      "<class 'list'>\n",
      "current validation loss:  0.40920722484588623\n",
      "Epoch:  41\n"
     ]
    },
    {
     "name": "stderr",
     "output_type": "stream",
     "text": [
      "450it [02:42,  2.77it/s]\n"
     ]
    },
    {
     "name": "stdout",
     "output_type": "stream",
     "text": [
      "train loss at epoch  40 :  0.16241736710071564\n",
      "<class 'list'>\n",
      "current validation loss:  0.3961906433105469\n",
      "Epoch:  42\n"
     ]
    },
    {
     "name": "stderr",
     "output_type": "stream",
     "text": [
      "450it [02:42,  2.77it/s]\n"
     ]
    },
    {
     "name": "stdout",
     "output_type": "stream",
     "text": [
      "train loss at epoch  41 :  0.15823180973529816\n",
      "<class 'list'>\n",
      "current validation loss:  0.4156414270401001\n",
      "Epoch:  43\n"
     ]
    },
    {
     "name": "stderr",
     "output_type": "stream",
     "text": [
      "450it [02:42,  2.76it/s]\n"
     ]
    },
    {
     "name": "stdout",
     "output_type": "stream",
     "text": [
      "train loss at epoch  42 :  0.1528913378715515\n",
      "<class 'list'>\n",
      "current validation loss:  0.41808226704597473\n",
      "Epoch:  44\n"
     ]
    },
    {
     "name": "stderr",
     "output_type": "stream",
     "text": [
      "450it [02:42,  2.77it/s]\n"
     ]
    },
    {
     "name": "stdout",
     "output_type": "stream",
     "text": [
      "train loss at epoch  43 :  0.1454828828573227\n",
      "<class 'list'>\n",
      "current validation loss:  0.44229575991630554\n",
      "Epoch:  45\n"
     ]
    },
    {
     "name": "stderr",
     "output_type": "stream",
     "text": [
      "450it [02:42,  2.77it/s]\n"
     ]
    },
    {
     "name": "stdout",
     "output_type": "stream",
     "text": [
      "train loss at epoch  44 :  0.14450931549072266\n",
      "<class 'list'>\n",
      "current validation loss:  0.41219085454940796\n",
      "Epoch:  46\n"
     ]
    },
    {
     "name": "stderr",
     "output_type": "stream",
     "text": [
      "450it [02:42,  2.76it/s]\n"
     ]
    },
    {
     "name": "stdout",
     "output_type": "stream",
     "text": [
      "train loss at epoch  45 :  0.13971047103405\n",
      "<class 'list'>\n",
      "current validation loss:  0.4584101736545563\n",
      "Epoch:  47\n"
     ]
    },
    {
     "name": "stderr",
     "output_type": "stream",
     "text": [
      "450it [02:42,  2.76it/s]\n"
     ]
    },
    {
     "name": "stdout",
     "output_type": "stream",
     "text": [
      "train loss at epoch  46 :  0.13379091024398804\n",
      "<class 'list'>\n",
      "current validation loss:  0.41336119174957275\n",
      "Epoch:  48\n"
     ]
    },
    {
     "name": "stderr",
     "output_type": "stream",
     "text": [
      "450it [02:42,  2.76it/s]\n"
     ]
    },
    {
     "name": "stdout",
     "output_type": "stream",
     "text": [
      "train loss at epoch  47 :  0.1377888321876526\n",
      "<class 'list'>\n",
      "current validation loss:  0.42340609431266785\n",
      "Epoch:  49\n"
     ]
    },
    {
     "name": "stderr",
     "output_type": "stream",
     "text": [
      "450it [02:42,  2.76it/s]\n"
     ]
    },
    {
     "name": "stdout",
     "output_type": "stream",
     "text": [
      "train loss at epoch  48 :  0.13089711964130402\n",
      "<class 'list'>\n",
      "current validation loss:  0.4282478988170624\n",
      "Epoch:  50\n"
     ]
    },
    {
     "name": "stderr",
     "output_type": "stream",
     "text": [
      "450it [02:42,  2.76it/s]\n"
     ]
    },
    {
     "name": "stdout",
     "output_type": "stream",
     "text": [
      "train loss at epoch  49 :  0.12250149995088577\n",
      "<class 'list'>\n",
      "current validation loss:  0.44085878133773804\n",
      "Epoch 00050: reducing learning rate of group 0 to 2.0000e-05.\n",
      "Epoch:  51\n"
     ]
    },
    {
     "name": "stderr",
     "output_type": "stream",
     "text": [
      "450it [02:42,  2.77it/s]\n"
     ]
    },
    {
     "name": "stdout",
     "output_type": "stream",
     "text": [
      "train loss at epoch  50 :  0.07889088243246078\n",
      "<class 'list'>\n",
      "current validation loss:  0.3641987144947052\n",
      "Epoch:  52\n"
     ]
    },
    {
     "name": "stderr",
     "output_type": "stream",
     "text": [
      "450it [02:42,  2.77it/s]\n"
     ]
    },
    {
     "name": "stdout",
     "output_type": "stream",
     "text": [
      "train loss at epoch  51 :  0.0592314787209034\n"
     ]
    }
   ],
   "source": [
    "error_matrix = torch.load(\"fhmap_data.pth\")\n",
    "# Experiment 1 High Frequency Range with strength 4\n",
    "transformation_exp1 = [c_noise.single_frequency(4, \"l\", 0.5)]\n",
    "run_experiment(transformation_exp1, \"EXP1\", \"High Frequency Range\")\n",
    "# Experiment 2 Mid Frequency Range with strength 4\n",
    "transformation_exp2 = [c_noise.single_frequency(4, \"m\", 0.5)]\n",
    "run_experiment(transformation_exp2, \"EXP2\", \"Mid Frequency Range\")\n",
    "# Experiment 3 Low Frequency Range with strength 4\n",
    "transformation_exp3 = [c_noise.single_frequency(4, \"h\", 0.5)]\n",
    "run_experiment(transformation_exp3, \"EXP3\", \"Low Frequency Range\")\n",
    "# Experiment 4 Error-Based Frequency Set with strength 4 and threshold 0.5\n",
    "transformation_exp4 = [c_noise.error_metric(4, error_matrix, 0.5, 0.5)]\n",
    "run_experiment(transformation_exp4, \"EXP4\", \"Error-Based Frequency Set\")"
   ],
   "metadata": {
    "collapsed": false,
    "pycharm": {
     "name": "#%%\n"
    }
   }
  },
  {
   "cell_type": "code",
   "execution_count": null,
   "outputs": [],
   "source": [
    "t_lowp = []\n",
    "slow_coord = []\n",
    "for i in range(-1, 2):\n",
    "    for j in range(-1, 2):\n",
    "        slow_coord.append((i, j))\n",
    "        if i != j:\n",
    "            slow_coord.append((j, i))\n",
    "slow_coord = sorted(set(slow_coord))\n",
    "for (x, y) in slow_coord:\n",
    "    n = abs(x) + abs(y)\n",
    "    if n == 0:\n",
    "        t_lowp.append(0.65)\n",
    "    elif n == 1:\n",
    "        t_lowp.append(0.5)\n",
    "    else:\n",
    "        t_lowp.append(0.2)\n",
    "# Experiment 5 Mid Frequency and Low Frequency Range with strength 2\n",
    "transformation_exp5 = [c_noise.single_frequency(2, \"m\", 0.5), c_noise.single_frequency(2, \"l\", 0.5)]\n",
    "run_experiment(transformation_exp5, \"EXP5\", \"Low & Mid Frequency Range\")\n",
    "# Experiment 6 Error-Based Frequency Set with strength 2 and threshold 0.5 and High Frequency Range with strength 2\n",
    "transformation_exp6 = [c_noise.error_metric(2, error_matrix, 0.5, 0.5), c_noise.single_frequency(2, \"h\", 0.5)]\n",
    "run_experiment(transformation_exp6, \"EXP6\", \"Error-Based Set & High Frequency Range\")\n",
    "# Experiment 7 Small Low Frequency Range with strength 2.5 and decreasing probability for higher frequencies & High Frequency Range with strength 1.5\n",
    "t_low = c_noise.custom_transform(slow_coord, 2.5)\n",
    "transformation_exp7 = [torchvision.transforms.RandomChoice(t_low, t_lowp), c_noise.single_frequency(1.5, \"h\", 0.5)]\n",
    "run_experiment(transformation_exp7, \"EXP7\", \"Small Low & High Frequency Range\")"
   ],
   "metadata": {
    "collapsed": false,
    "pycharm": {
     "name": "#%%\n"
    }
   }
  },
  {
   "cell_type": "code",
   "execution_count": null,
   "outputs": [],
   "source": [
    "# Experiment 8 Error-Based Frequency Set with strength 2 and threshold 0.5, High Frequency Range with strength 2 and Low Frequency Range with strength 0.5\n",
    "transformation_exp8 = [c_noise.error_metric(2, error_matrix, 0.5, 0.5), c_noise.single_frequency(2, \"h\", 0.5),\n",
    "                       c_noise.single_frequency(0.5, \"l\", 0.5)]\n",
    "run_experiment(transformation_exp8, \"EXP8\", \"Low & High Frequency Range and Error-Based Frequency set\")\n",
    "# Experiment 9 High, Mid, and Low Frequency Range with strength 2.5, 1 and 0.5\n",
    "transformation_exp9 = [c_noise.single_frequency(2.5, \"h\", 0.5), c_noise.single_frequency(1, \"m\", 0.5),\n",
    "                       c_noise.single_frequency(0.5, \"l\", 0.5)]\n",
    "run_experiment(transformation_exp9, \"EXP9\", \"Low & Mid & High Frequency Range\")\n",
    "# Experiment 10 Small Low Frequency Range with strength 2.5 and decreasing probability for higher frequencies & Mid & High Frequency Range with strength 0.5 and 1.5\n",
    "transformation_exp10 = [torchvision.transforms.RandomChoice(t_low, t_lowp), c_noise.single_frequency(1.5, \"h\", 0.5),\n",
    "                        c_noise.single_frequency(0.5, \"m\", 0.5)]\n",
    "run_experiment(transformation_exp10, \"EXP10\", \"Small Low & Mid & High Frequency Range\")"
   ],
   "metadata": {
    "collapsed": false,
    "pycharm": {
     "name": "#%%\n"
    }
   }
  }
 ],
 "metadata": {
  "kernelspec": {
   "display_name": "Python 3",
   "language": "python",
   "name": "python3"
  },
  "language_info": {
   "codemirror_mode": {
    "name": "ipython",
    "version": 2
   },
   "file_extension": ".py",
   "mimetype": "text/x-python",
   "name": "python",
   "nbconvert_exporter": "python",
   "pygments_lexer": "ipython2",
   "version": "2.7.6"
  }
 },
 "nbformat": 4,
 "nbformat_minor": 0
}